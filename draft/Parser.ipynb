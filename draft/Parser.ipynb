{
 "cells": [
  {
   "cell_type": "code",
   "execution_count": 6,
   "metadata": {},
   "outputs": [
    {
     "data": {
      "text/plain": [
       "{'a': <fffi.parser.parser.Variable at 0x7fe4a8296dd8>,\n",
       " 'b': <fffi.parser.parser.Variable at 0x7fe4a8296ba8>,\n",
       " 'c': <fffi.parser.parser.Variable at 0x7fe4a81cae10>}"
      ]
     },
     "execution_count": 6,
     "metadata": {},
     "output_type": "execute_result"
    }
   ],
   "source": [
    "from fffi import parser\n",
    "\n",
    "ast = parser.parse('integer :: a, b, c')\n",
    "ast.namespace"
   ]
  }
 ],
 "metadata": {
  "hide_input": false,
  "kernelspec": {
   "display_name": "Python 3",
   "language": "python",
   "name": "python3"
  },
  "language_info": {
   "codemirror_mode": {
    "name": "ipython",
    "version": 3
   },
   "file_extension": ".py",
   "mimetype": "text/x-python",
   "name": "python",
   "nbconvert_exporter": "python",
   "pygments_lexer": "ipython3",
   "version": "3.7.3"
  }
 },
 "nbformat": 4,
 "nbformat_minor": 2
}
